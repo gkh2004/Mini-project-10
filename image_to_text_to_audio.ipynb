{
  "nbformat": 4,
  "nbformat_minor": 0,
  "metadata": {
    "colab": {
      "provenance": [],
      "authorship_tag": "ABX9TyNz9DFvUSibIiCb4Db8Ah/M",
      "include_colab_link": true
    },
    "kernelspec": {
      "name": "python3",
      "display_name": "Python 3"
    },
    "language_info": {
      "name": "python"
    }
  },
  "cells": [
    {
      "cell_type": "markdown",
      "metadata": {
        "id": "view-in-github",
        "colab_type": "text"
      },
      "source": [
        "<a href=\"https://colab.research.google.com/github/gkh2004/Mini-project-10/blob/main/image_to_text_to_audio.ipynb\" target=\"_parent\"><img src=\"https://colab.research.google.com/assets/colab-badge.svg\" alt=\"Open In Colab\"/></a>"
      ]
    },
    {
      "cell_type": "code",
      "source": [
        "!sudo apt install tesseract-ocr\n",
        "!pip install pytesseract\n",
        "!pip install gTTS\n",
        "!pip install playsound\n",
        "!pip install pygobject"
      ],
      "metadata": {
        "colab": {
          "base_uri": "https://localhost:8080/"
        },
        "id": "vdEbSW8QNFpx",
        "outputId": "95573b45-1d40-4c38-81d3-a030867750e4"
      },
      "execution_count": 6,
      "outputs": [
        {
          "output_type": "stream",
          "name": "stdout",
          "text": [
            "Reading package lists... Done\n",
            "Building dependency tree... Done\n",
            "Reading state information... Done\n",
            "tesseract-ocr is already the newest version (4.1.1-2.1build1).\n",
            "0 upgraded, 0 newly installed, 0 to remove and 35 not upgraded.\n",
            "Requirement already satisfied: pytesseract in /usr/local/lib/python3.11/dist-packages (0.3.13)\n",
            "Requirement already satisfied: packaging>=21.3 in /usr/local/lib/python3.11/dist-packages (from pytesseract) (24.2)\n",
            "Requirement already satisfied: Pillow>=8.0.0 in /usr/local/lib/python3.11/dist-packages (from pytesseract) (11.2.1)\n",
            "Requirement already satisfied: gTTS in /usr/local/lib/python3.11/dist-packages (2.5.4)\n",
            "Requirement already satisfied: requests<3,>=2.27 in /usr/local/lib/python3.11/dist-packages (from gTTS) (2.32.3)\n",
            "Requirement already satisfied: click<8.2,>=7.1 in /usr/local/lib/python3.11/dist-packages (from gTTS) (8.1.8)\n",
            "Requirement already satisfied: charset-normalizer<4,>=2 in /usr/local/lib/python3.11/dist-packages (from requests<3,>=2.27->gTTS) (3.4.2)\n",
            "Requirement already satisfied: idna<4,>=2.5 in /usr/local/lib/python3.11/dist-packages (from requests<3,>=2.27->gTTS) (3.10)\n",
            "Requirement already satisfied: urllib3<3,>=1.21.1 in /usr/local/lib/python3.11/dist-packages (from requests<3,>=2.27->gTTS) (2.4.0)\n",
            "Requirement already satisfied: certifi>=2017.4.17 in /usr/local/lib/python3.11/dist-packages (from requests<3,>=2.27->gTTS) (2025.6.15)\n",
            "Requirement already satisfied: playsound in /usr/local/lib/python3.11/dist-packages (1.3.0)\n",
            "Requirement already satisfied: pygobject in /usr/local/lib/python3.11/dist-packages (3.42.0)\n",
            "Requirement already satisfied: pycairo>=1.16.0 in /usr/local/lib/python3.11/dist-packages (from pygobject) (1.28.0)\n"
          ]
        }
      ]
    },
    {
      "cell_type": "code",
      "execution_count": 8,
      "metadata": {
        "colab": {
          "base_uri": "https://localhost:8080/"
        },
        "id": "I_pjdvSUKqP0",
        "outputId": "3ed92efa-0c86-4a3b-9044-6c3286b8990a"
      },
      "outputs": [
        {
          "output_type": "stream",
          "name": "stdout",
          "text": [
            "Extracted Text:\n",
            " IN THIS ARTICLE, YOU WILL\n",
            "\n",
            "PUT REO mice ore\n",
            "\n",
            "PROGRAMMING IS IMP 7 -\n",
            "\n",
            "SOLUTIONS FOR GLOBAL PROB a Ngee a Re Nass\n",
            "ROMAIN oci DT Se PUTERS AND THE INTERNET.\n",
            "\n",
            "PON : es ea\n",
            "\n",
            ") ALL THESE REASONS, IT'S\n",
            "REALLY IMPORTANT TO.\n",
            "DAILY LIFE,\n",
            "\n",
            " \n",
            "\f\n",
            "Playing Audio...\n",
            "Error: Command '['/usr/bin/python3', '/usr/local/lib/python3.11/dist-packages/playsound.py', 'output_audio.mp3']' returned non-zero exit status 1.\n"
          ]
        }
      ],
      "source": [
        "from PIL import Image\n",
        "import pytesseract\n",
        "from gtts import gTTS\n",
        "import os\n",
        "from playsound import playsound\n",
        "\n",
        "# -------- Step 1: Load and Extract Text from Image --------\n",
        "image_path = \"image.webp\"  # Replace with your image path\n",
        "\n",
        "# Optional: specify tesseract path if needed\n",
        "# pytesseract.pytesseract.tesseract_cmd = r'C:\\Program Files\\Tesseract-OCR\\tesseract.exe'\n",
        "\n",
        "try:\n",
        "    image = Image.open(image_path)\n",
        "    extracted_text = pytesseract.image_to_string(image)\n",
        "    print(\"Extracted Text:\\n\", extracted_text)\n",
        "\n",
        "    if extracted_text.strip():\n",
        "        # -------- Step 2: Convert Text to Speech --------\n",
        "        tts = gTTS(text=extracted_text, lang='en')\n",
        "        audio_path = \"output_audio.mp3\"\n",
        "        tts.save(audio_path)\n",
        "\n",
        "        # -------- Step 3: Play Audio --------\n",
        "        print(\"Playing Audio...\")\n",
        "        playsound(audio_path)\n",
        "    else:\n",
        "        print(\"No readable text found in the image.\")\n",
        "\n",
        "except Exception as e:\n",
        "    print(\"Error:\", e)\n"
      ]
    }
  ]
}